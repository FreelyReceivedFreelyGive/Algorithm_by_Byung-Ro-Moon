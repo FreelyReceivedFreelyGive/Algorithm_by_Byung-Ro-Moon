{
 "cells": [
  {
   "cell_type": "code",
   "execution_count": 19,
   "metadata": {
    "collapsed": true,
    "pycharm": {
     "is_executing": false
    }
   },
   "outputs": [
    {
     "name": "stdout",
     "text": [
      "[38, 93, 60, 92, 51, 6, 100, 92, 1, 50]\n",
      "[38, 93, 60, 92, 51, 6, 100, 92, 1, 50]\n",
      "[38, 60, 93, 92, 51, 6, 100, 92, 1, 50]\n",
      "[38, 60, 92, 93, 51, 6, 100, 92, 1, 50]\n",
      "[38, 51, 60, 92, 93, 6, 100, 92, 1, 50]\n",
      "[6, 38, 51, 60, 92, 93, 100, 92, 1, 50]\n",
      "[6, 38, 51, 60, 92, 93, 100, 92, 1, 50]\n",
      "[6, 38, 51, 60, 92, 92, 93, 100, 1, 50]\n",
      "[1, 6, 38, 51, 60, 92, 92, 93, 100, 50]\n",
      "[1, 6, 38, 50, 51, 60, 92, 92, 93, 100]\n",
      "[1, 6, 38, 50, 51, 60, 92, 92, 93, 100]\n"
     ],
     "output_type": "stream"
    }
   ],
   "source": [
    "import numpy as np\n",
    "import random\n",
    "\n",
    "import time\n",
    "random.seed(time.time())\n",
    "\n",
    "\n",
    "def insertion_sort(array, last_index):\n",
    "    if last_index < len(array):\n",
    "        temp = array[last_index]\n",
    "        for i in range(last_index):\n",
    "            if temp < array[i]:\n",
    "                for j in range(last_index, i, -1):\n",
    "                    array[j] = array[j - 1]\n",
    "                array[i] = temp\n",
    "                break\n",
    "        print(array)\n",
    "        insertion_sort(array, last_index = last_index + 1)\n",
    "    else:\n",
    "        return\n",
    "\n",
    "\n",
    "if __name__ == \"__main__\":\n",
    "    array = [random.randint(0, 100) for i in range(10)]\n",
    "    print(array)\n",
    "    insertion_sort(array, last_index = 1)\n",
    "    print(array)"
   ]
  },
  {
   "cell_type": "code",
   "execution_count": 14,
   "outputs": [
    {
     "name": "stdout",
     "text": [
      "[3 2]\n",
      "asdf\n",
      "asdf\n",
      "asdf\n"
     ],
     "output_type": "stream"
    }
   ],
   "source": [
    "a = np.arange(3, 1, -1)\n",
    "print(a)\n",
    "for i in range(3, 0, -1):\n",
    "    print(\"asdf\")"
   ],
   "metadata": {
    "collapsed": false,
    "pycharm": {
     "name": "#%%\n",
     "is_executing": false
    }
   }
  },
  {
   "cell_type": "code",
   "execution_count": null,
   "outputs": [],
   "source": [
    "\n"
   ],
   "metadata": {
    "collapsed": false,
    "pycharm": {
     "name": "#%%\n"
    }
   }
  }
 ],
 "metadata": {
  "kernelspec": {
   "name": "python3",
   "language": "python",
   "display_name": "Python 3"
  },
  "language_info": {
   "codemirror_mode": {
    "name": "ipython",
    "version": 2
   },
   "file_extension": ".py",
   "mimetype": "text/x-python",
   "name": "python",
   "nbconvert_exporter": "python",
   "pygments_lexer": "ipython2",
   "version": "2.7.6"
  },
  "pycharm": {
   "stem_cell": {
    "cell_type": "raw",
    "source": [],
    "metadata": {
     "collapsed": false
    }
   }
  }
 },
 "nbformat": 4,
 "nbformat_minor": 0
}
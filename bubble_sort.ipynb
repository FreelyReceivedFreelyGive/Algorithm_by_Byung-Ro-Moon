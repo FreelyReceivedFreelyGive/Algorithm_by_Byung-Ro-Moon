{
 "cells": [
  {
   "cell_type": "code",
   "execution_count": 3,
   "metadata": {
    "collapsed": true,
    "pycharm": {
     "is_executing": false
    }
   },
   "outputs": [
    {
     "name": "stdout",
     "text": [
      "[59, 98, 2, 90, 3, 16, 14, 25, 41, 13]\n",
      "[59, 2, 90, 3, 16, 14, 25, 41, 13, 98]\n",
      "[2, 59, 3, 16, 14, 25, 41, 13, 90, 98]\n",
      "[2, 3, 16, 14, 25, 41, 13, 59, 90, 98]\n",
      "[2, 3, 14, 16, 25, 13, 41, 59, 90, 98]\n",
      "[2, 3, 14, 16, 13, 25, 41, 59, 90, 98]\n",
      "[2, 3, 14, 13, 16, 25, 41, 59, 90, 98]\n",
      "[2, 3, 13, 14, 16, 25, 41, 59, 90, 98]\n",
      "[2, 3, 13, 14, 16, 25, 41, 59, 90, 98]\n",
      "[2, 3, 13, 14, 16, 25, 41, 59, 90, 98]\n",
      "[2, 3, 13, 14, 16, 25, 41, 59, 90, 98]\n"
     ],
     "output_type": "stream"
    }
   ],
   "source": [
    "import random\n",
    "\n",
    "import time\n",
    "random.seed(time.time())\n",
    "\n",
    "\n",
    "def bubble_sort(list_input, last_index):\n",
    "    if last_index > 0:\n",
    "        for i in range(last_index):\n",
    "            if list_input[i] > list_input[i + 1]:\n",
    "                list_input[i] , list_input[i + 1] = list_input[i + 1], list_input[i]\n",
    "        print(list_input)\n",
    "        bubble_sort(list_input, last_index - 1)\n",
    "    else:\n",
    "        return\n",
    "\n",
    "\n",
    "if __name__ == \"__main__\":\n",
    "    list_input = [random.randint(0, 100) for i in range(10)]\n",
    "    print(list_input)\n",
    "    bubble_sort(list_input, len(list_input) - 1)\n",
    "    print(list_input)"
   ]
  }
 ],
 "metadata": {
  "kernelspec": {
   "display_name": "Python 3",
   "language": "python",
   "name": "python3"
  },
  "language_info": {
   "codemirror_mode": {
    "name": "ipython",
    "version": 2
   },
   "file_extension": ".py",
   "mimetype": "text/x-python",
   "name": "python",
   "nbconvert_exporter": "python",
   "pygments_lexer": "ipython2",
   "version": "2.7.6"
  },
  "pycharm": {
   "stem_cell": {
    "cell_type": "raw",
    "source": [],
    "metadata": {
     "collapsed": false
    }
   }
  }
 },
 "nbformat": 4,
 "nbformat_minor": 0
}
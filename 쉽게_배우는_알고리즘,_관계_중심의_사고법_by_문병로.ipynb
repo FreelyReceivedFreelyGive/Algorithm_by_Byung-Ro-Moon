{
  "nbformat": 4,
  "nbformat_minor": 0,
  "metadata": {
    "colab": {
      "name": "쉽게 배우는 알고리즘, 관계 중심의 사고법 by 문병로",
      "provenance": []
    },
    "kernelspec": {
      "name": "python3",
      "display_name": "Python 3"
    }
  },
  "cells": [
    {
      "cell_type": "markdown",
      "metadata": {
        "id": "GTa8gYiodnAn",
        "colab_type": "text"
      },
      "source": [
        "# * import modules and set *"
      ]
    },
    {
      "cell_type": "code",
      "metadata": {
        "id": "xyzNDssNdmwI",
        "colab_type": "code",
        "colab": {}
      },
      "source": [
        "import numpy as np\n",
        "import random\n",
        "\n",
        "# set color\n",
        "C_END     = \"\\033[0m\"\n",
        "C_BOLD    = \"\\033[1m\"\n",
        "C_INVERSE = \"\\033[7m\"\n",
        " \n",
        "C_BLACK  = \"\\033[30m\"\n",
        "C_RED    = \"\\033[31m\"\n",
        "C_GREEN  = \"\\033[32m\"\n",
        "C_YELLOW = \"\\033[33m\"\n",
        "C_BLUE   = \"\\033[34m\"\n",
        "C_PURPLE = \"\\033[35m\"\n",
        "C_CYAN   = \"\\033[36m\"\n",
        "C_WHITE  = \"\\033[37m\"\n",
        " \n",
        "C_BGBLACK  = \"\\033[40m\"\n",
        "C_BGRED    = \"\\033[41m\"\n",
        "C_BGGREEN  = \"\\033[42m\"\n",
        "C_BGYELLOW = \"\\033[43m\"\n",
        "C_BGBLUE   = \"\\033[44m\"\n",
        "C_BGPURPLE = \"\\033[45m\"\n",
        "C_BGCYAN   = \"\\033[46m\"\n",
        "C_BGWHITE  = \"\\033[47m\""
      ],
      "execution_count": 0,
      "outputs": []
    },
    {
      "cell_type": "markdown",
      "metadata": {
        "id": "Xg40iT5WdFAb",
        "colab_type": "text"
      },
      "source": [
        "# Chapter 4. 정렬"
      ]
    },
    {
      "cell_type": "markdown",
      "metadata": {
        "id": "svBC_JDHdOMn",
        "colab_type": "text"
      },
      "source": [
        "연습문제"
      ]
    },
    {
      "cell_type": "code",
      "metadata": {
        "id": "PCbtCEXtdA-E",
        "colab_type": "code",
        "outputId": "f026ca68-0844-4079-8a34-e8582c07409b",
        "colab": {
          "base_uri": "https://localhost:8080/",
          "height": 1000
        }
      },
      "source": [
        "# 1. 원소들이 다음 순서로 배열에 저장되어 있다.\n",
        "# 12 70 30 20 55 25\n",
        "list_input = [12, 70, 30, 20, 55, 25]\n",
        "# list_input = [random.randint(0, 100) for i in range(30)]\n",
        "\n",
        "# 1-1. 이 원소들로 선택 정렬이 수행되는 과정을 보이시오.\n",
        "def selection_Sort(array):\n",
        "  print(\"Selectionr Sort\")\n",
        "  for last_index in range(len(array) - 1, 0, -1):\n",
        "    index_of_the_largest = 0\n",
        "    for index in range(1, last_index + 1):\n",
        "      if array[index] > array[index_of_the_largest]:\n",
        "        index_of_the_largest = index\n",
        "    \n",
        "    if index_of_the_largest != last_index:\n",
        "      for i in range(0, len(array)):\n",
        "        if i == last_index or i == index_of_the_largest:\n",
        "          print(C_PURPLE + str(array[i]) + C_END, end = ' ')\n",
        "        else:\n",
        "          print(array[i], end = ' ')\n",
        "      print('\\n', end = '')\n",
        "      array[last_index], array[index_of_the_largest] = array[index_of_the_largest], array[last_index]\n",
        "      for i in range(0, len(array)):\n",
        "        if i == last_index or i == index_of_the_largest:\n",
        "          print(C_GREEN + str(array[i]) + C_END, end = ' ')\n",
        "        else:\n",
        "          print(array[i], end = ' ')\n",
        "      print('\\n', end = '')\n",
        "      each_int_to_str = [str(i) for i in array.tolist()]\n",
        "      string = ''.join(each_int_to_str)\n",
        "      for j in range(0, len(string) + len(array) - 1):\n",
        "        print('-', end = '')\n",
        "      print()\n",
        "  return array\n",
        "\n",
        "array = np.asarray(list_input)\n",
        "selection_Sort(array)\n",
        "\n",
        "\n",
        "# 1-2. 이 원소들로 선택 정렬이 수행되는 과정을 보이시오.\n",
        "def  bubble_Sort(array):\n",
        "  print(\"\\n\\nBubble Sort\")\n",
        "  for last_index in range(len(array) - 1, 0, -1):\n",
        "    for index in range(0, last_index):\n",
        "      if array[index] > array[index + 1]:\n",
        "        for i in range(0, len(array)):\n",
        "          if i == index or i == index + 1:\n",
        "            print(C_PURPLE + str(array[i]) + C_END, end = ' ')\n",
        "          else:\n",
        "            print(array[i], end = ' ')\n",
        "        print('\\n', end = '')\n",
        "        array[index], array[index + 1] = array[index + 1], array[index]\n",
        "        for i in range(0, len(array)):\n",
        "          if i == index or i == index + 1:\n",
        "            print(C_GREEN + str(array[i]) + C_END, end = ' ')\n",
        "          else:\n",
        "            print(array[i], end = ' ')\n",
        "        print('\\n', end = '')\n",
        "        each_int_to_str = [str(i) for i in array.tolist()]\n",
        "        string = ''.join(each_int_to_str)\n",
        "        for j in range(0, len(string) + len(array) - 1):\n",
        "          print('-', end = '')\n",
        "        print()\n",
        "  \n",
        "  return array\n",
        "\n",
        "array = np.asarray(list_input)\n",
        "bubble_Sort(array)\n",
        "\n",
        "\n",
        "# 1-3. 이 원소들로 선택 정렬이 수행되는 과정을 보이시오.\n",
        "def insertion_Sort(array):\n",
        "  print(\"\\n\\nInsertion Sort\")\n",
        "  for index in range(1, len(array)):\n",
        "    loc = index - 1\n",
        "    new_Item = array[index]\n",
        "\n",
        "    for i in range(0, len(array)):\n",
        "      if i == loc + 1:\n",
        "        print(C_GREEN + str(array[i]) + C_END, end = ' ')\n",
        "      else:\n",
        "        print(array[i], end = ' ')\n",
        "    print('\\n', end = '')\n",
        "    each_int_to_str = [str(i) for i in array.tolist()]\n",
        "    string = ''.join(each_int_to_str)\n",
        "    \n",
        "    while loc >= 0 and new_Item < array[loc]:\n",
        "      for i in range(0, len(array)):\n",
        "        if i == loc:\n",
        "          print(C_PURPLE + str(array[i]) + C_END, end = ' ')\n",
        "        else:\n",
        "          print(array[i], end = ' ')\n",
        "      print('\\n', end = '')\n",
        "      \n",
        "      array[loc + 1] = array[loc]\n",
        "      loc -= 1\n",
        "\n",
        "      for i in range(0, len(array)):\n",
        "        if i == loc + 1 or i == loc + 2:\n",
        "          print(C_PURPLE + str(array[i]) + C_END, end = ' ')\n",
        "        else:\n",
        "          print(array[i], end = ' ')\n",
        "      print('\\n', end = '')\n",
        "\n",
        "    array[loc + 1] = new_Item\n",
        "\n",
        "    for i in range(0, len(array)):\n",
        "      if i == loc + 1:\n",
        "        print(C_BLUE + str(array[i]) + C_END, end = ' ')\n",
        "      else:\n",
        "        print(array[i], end = ' ')\n",
        "    print('\\n', end = '')\n",
        "\n",
        "    for j in range(0, len(string) + len(array) - 1):\n",
        "      print('-', end = '')\n",
        "    print()\n",
        "\n",
        "  return array\n",
        "\n",
        "array = np.asarray(list_input)\n",
        "insertion_Sort(array)"
      ],
      "execution_count": 0,
      "outputs": [
        {
          "output_type": "stream",
          "text": [
            "Selectionr Sort\n",
            "12 \u001b[35m70\u001b[0m 30 20 55 \u001b[35m25\u001b[0m \n",
            "12 \u001b[32m25\u001b[0m 30 20 55 \u001b[32m70\u001b[0m \n",
            "-----------------\n",
            "12 25 \u001b[35m30\u001b[0m \u001b[35m20\u001b[0m 55 70 \n",
            "12 25 \u001b[32m20\u001b[0m \u001b[32m30\u001b[0m 55 70 \n",
            "-----------------\n",
            "12 \u001b[35m25\u001b[0m \u001b[35m20\u001b[0m 30 55 70 \n",
            "12 \u001b[32m20\u001b[0m \u001b[32m25\u001b[0m 30 55 70 \n",
            "-----------------\n",
            "\n",
            "\n",
            "Bubble Sort\n",
            "12 \u001b[35m70\u001b[0m \u001b[35m30\u001b[0m 20 55 25 \n",
            "12 \u001b[32m30\u001b[0m \u001b[32m70\u001b[0m 20 55 25 \n",
            "-----------------\n",
            "12 30 \u001b[35m70\u001b[0m \u001b[35m20\u001b[0m 55 25 \n",
            "12 30 \u001b[32m20\u001b[0m \u001b[32m70\u001b[0m 55 25 \n",
            "-----------------\n",
            "12 30 20 \u001b[35m70\u001b[0m \u001b[35m55\u001b[0m 25 \n",
            "12 30 20 \u001b[32m55\u001b[0m \u001b[32m70\u001b[0m 25 \n",
            "-----------------\n",
            "12 30 20 55 \u001b[35m70\u001b[0m \u001b[35m25\u001b[0m \n",
            "12 30 20 55 \u001b[32m25\u001b[0m \u001b[32m70\u001b[0m \n",
            "-----------------\n",
            "12 \u001b[35m30\u001b[0m \u001b[35m20\u001b[0m 55 25 70 \n",
            "12 \u001b[32m20\u001b[0m \u001b[32m30\u001b[0m 55 25 70 \n",
            "-----------------\n",
            "12 20 30 \u001b[35m55\u001b[0m \u001b[35m25\u001b[0m 70 \n",
            "12 20 30 \u001b[32m25\u001b[0m \u001b[32m55\u001b[0m 70 \n",
            "-----------------\n",
            "12 20 \u001b[35m30\u001b[0m \u001b[35m25\u001b[0m 55 70 \n",
            "12 20 \u001b[32m25\u001b[0m \u001b[32m30\u001b[0m 55 70 \n",
            "-----------------\n",
            "\n",
            "\n",
            "Insertion Sort\n",
            "12 \u001b[32m70\u001b[0m 30 20 55 25 \n",
            "12 \u001b[34m70\u001b[0m 30 20 55 25 \n",
            "-----------------\n",
            "12 70 \u001b[32m30\u001b[0m 20 55 25 \n",
            "12 \u001b[35m70\u001b[0m 30 20 55 25 \n",
            "12 \u001b[35m70\u001b[0m \u001b[35m70\u001b[0m 20 55 25 \n",
            "12 \u001b[34m30\u001b[0m 70 20 55 25 \n",
            "-----------------\n",
            "12 30 70 \u001b[32m20\u001b[0m 55 25 \n",
            "12 30 \u001b[35m70\u001b[0m 20 55 25 \n",
            "12 30 \u001b[35m70\u001b[0m \u001b[35m70\u001b[0m 55 25 \n",
            "12 \u001b[35m30\u001b[0m 70 70 55 25 \n",
            "12 \u001b[35m30\u001b[0m \u001b[35m30\u001b[0m 70 55 25 \n",
            "12 \u001b[34m20\u001b[0m 30 70 55 25 \n",
            "-----------------\n",
            "12 20 30 70 \u001b[32m55\u001b[0m 25 \n",
            "12 20 30 \u001b[35m70\u001b[0m 55 25 \n",
            "12 20 30 \u001b[35m70\u001b[0m \u001b[35m70\u001b[0m 25 \n",
            "12 20 30 \u001b[34m55\u001b[0m 70 25 \n",
            "-----------------\n",
            "12 20 30 55 70 \u001b[32m25\u001b[0m \n",
            "12 20 30 55 \u001b[35m70\u001b[0m 25 \n",
            "12 20 30 55 \u001b[35m70\u001b[0m \u001b[35m70\u001b[0m \n",
            "12 20 30 \u001b[35m55\u001b[0m 70 70 \n",
            "12 20 30 \u001b[35m55\u001b[0m \u001b[35m55\u001b[0m 70 \n",
            "12 20 \u001b[35m30\u001b[0m 55 55 70 \n",
            "12 20 \u001b[35m30\u001b[0m \u001b[35m30\u001b[0m 55 70 \n",
            "12 20 \u001b[34m25\u001b[0m 30 55 70 \n",
            "-----------------\n"
          ],
          "name": "stdout"
        },
        {
          "output_type": "execute_result",
          "data": {
            "text/plain": [
              "array([12, 20, 25, 30, 55, 70])"
            ]
          },
          "metadata": {
            "tags": []
          },
          "execution_count": 34
        }
      ]
    },
    {
      "cell_type": "markdown",
      "metadata": {
        "id": "4X7NBn_QqyRF",
        "colab_type": "text"
      },
      "source": [
        "insertion Sort\n",
        "\n",
        "![alt text](https://drive.google.com/uc?id=1rrnADkEwGVov2A1nV7JyYTFeuk453Fz0)"
      ]
    },
    {
      "cell_type": "code",
      "metadata": {
        "id": "IGzJi7jLyuoY",
        "colab_type": "code",
        "colab": {}
      },
      "source": [
        "# 2. 원소들이 다음 순서로 배열에 저장되어 있다.\n",
        "# 12 70 30 20 55 25 40 50\n",
        "list_input = [12, 70, 30, 20, 55, 25, 40, 50]\n",
        "# list_input = [random.randint(0, 100) for i in range(30)]\n",
        "\n",
        "# 2-1. 이 원소들로 병합 정렬이 수행되는 과정을 보이시오.\n",
        "def merge_Sort (array, start_index, end_index):\n",
        "  if start_index < end_index:\n",
        "    middle_end_index = (start_index + end_index) / 2\n",
        "    merge_Sort(array, start_index, end_index)\n",
        "    merge_Sort(array, middle_end_index + 1, end_point)\n",
        "    merge(array, start_point, )\n",
        "\n",
        "array = np.asarray(list_input)\n",
        "merge_Sort(array, 0, len(array))\n",
        "\n",
        "\n",
        "# 2-1. 이 원소들로 힙 정렬이 수행되는 과정을 보이시오."
      ],
      "execution_count": 0,
      "outputs": []
    },
    {
      "cell_type": "markdown",
      "metadata": {
        "id": "N7HPbwyB3Hcy",
        "colab_type": "text"
      },
      "source": [
        "merge Sort\n",
        "\n",
        "![alt text](https://drive.google.com/uc?id=10dN0J5d5k8AJ7JTEqgsj5r-XoRIGROYr)\n",
        "\n",
        "from: https://upload.wikimedia.org/wikipedia/commons/c/cc/Merge-sort-example-300px.gif?1582374462794"
      ]
    }
  ]
}
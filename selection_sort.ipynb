{
 "cells": [
  {
   "cell_type": "code",
   "execution_count": 15,
   "metadata": {
    "collapsed": true,
    "pycharm": {
     "is_executing": false
    }
   },
   "outputs": [
    {
     "name": "stdout",
     "text": [
      "[74, 98, 61, 51, 94, 9, 39, 20, 53, 51]\n",
      "[74, 51, 61, 51, 94, 9, 39, 20, 53, 98]\n",
      "[74, 51, 61, 51, 53, 9, 39, 20, 94, 98]\n",
      "[20, 51, 61, 51, 53, 9, 39, 74, 94, 98]\n",
      "[20, 51, 39, 51, 53, 9, 61, 74, 94, 98]\n",
      "[20, 51, 39, 51, 9, 53, 61, 74, 94, 98]\n",
      "[20, 9, 39, 51, 51, 53, 61, 74, 94, 98]\n",
      "[20, 9, 39, 51, 51, 53, 61, 74, 94, 98]\n",
      "[20, 9, 39, 51, 51, 53, 61, 74, 94, 98]\n",
      "[9, 20, 39, 51, 51, 53, 61, 74, 94, 98]\n",
      "[9, 20, 39, 51, 51, 53, 61, 74, 94, 98]\n"
     ],
     "output_type": "stream"
    }
   ],
   "source": [
    "\n",
    "import random\n",
    "\n",
    "import time\n",
    "random.seed(time.time())\n",
    "\n",
    "\n",
    "def selection_sort(list_input, last_index):\n",
    "    if last_index > 0:\n",
    "        temp_index = 0\n",
    "        for i in range(last_index):\n",
    "            if list_input[temp_index] < list_input[i]:\n",
    "                temp_index = i\n",
    "        if list_input[temp_index] > list_input[last_index]:\n",
    "            list_input[temp_index], list_input[last_index] = list_input[last_index], list_input[temp_index]\n",
    "        print(list_input)\n",
    "        selection_sort(list_input, last_index - 1)\n",
    "    else:\n",
    "        return\n",
    "\n",
    "if __name__ == \"__main__\":\n",
    "    list_input = [random.randint(0, 100) for i in range(10)]\n",
    "    # print(len(list_input))\n",
    "    # print(list_input[len(list_input) - 1])\n",
    "    print(list_input)\n",
    "    selection_sort(list_input, len(list_input) - 1)\n",
    "    print(list_input)"
   ]
  }
 ],
 "metadata": {
  "kernelspec": {
   "display_name": "Python 3",
   "language": "python",
   "name": "python3"
  },
  "language_info": {
   "codemirror_mode": {
    "name": "ipython",
    "version": 2
   },
   "file_extension": ".py",
   "mimetype": "text/x-python",
   "name": "python",
   "nbconvert_exporter": "python",
   "pygments_lexer": "ipython2",
   "version": "2.7.6"
  },
  "pycharm": {
   "stem_cell": {
    "cell_type": "raw",
    "source": [],
    "metadata": {
     "collapsed": false
    }
   }
  }
 },
 "nbformat": 4,
 "nbformat_minor": 0
}